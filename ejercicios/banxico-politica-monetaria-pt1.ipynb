{
 "cells": [
  {
   "cell_type": "markdown",
   "metadata": {},
   "source": [
    "# Comunicados de Política Monetaria\n",
    "## Parte 1.\n",
    "\n",
    "En este notebook crearemos un pandas DataFrame con las decisiones de política monetaria de Banxico y haremos un análisis de la información recabada."
   ]
  },
  {
   "cell_type": "code",
   "execution_count": null,
   "metadata": {},
   "outputs": [],
   "source": [
    "import re\n",
    "import os\n",
    "import pandas as pd\n",
    "import matplotlib.pyplot as plt\n",
    "from requests_html import HTMLSession\n",
    "from collections import defaultdict\n",
    "from unidecode import unidecode\n",
    "from datetime import datetime"
   ]
  },
  {
   "cell_type": "code",
   "execution_count": null,
   "metadata": {},
   "outputs": [],
   "source": [
    "%config InlineBackend.figure_format = \"retina\"\n",
    "plt.rcParams[\"figure.figsize\"] = (12, 4)"
   ]
  },
  {
   "cell_type": "markdown",
   "metadata": {},
   "source": [
    "La información de decisción de política monetaria se encuentra en la siguiente url."
   ]
  },
  {
   "cell_type": "code",
   "execution_count": 2,
   "metadata": {},
   "outputs": [],
   "source": [
    "url = (\"https://www.banxico.org.mx/publicaciones-y-prensa/\"\n",
    "      \"anuncios-de-las-decisiones-de-politica-monetaria/\"\n",
    "      \"anuncios-politica-monetaria-t.html\")"
   ]
  },
  {
   "cell_type": "markdown",
   "metadata": {},
   "source": [
    "* Entra a `url` y analiza la página."
   ]
  },
  {
   "cell_type": "code",
   "execution_count": 3,
   "metadata": {},
   "outputs": [
    {
     "name": "stdout",
     "output_type": "stream",
     "text": [
      "https://www.banxico.org.mx/publicaciones-y-prensa/anuncios-de-las-decisiones-de-politica-monetaria/anuncios-politica-monetaria-t.html\n"
     ]
    }
   ],
   "source": [
    "print(url)"
   ]
  },
  {
   "cell_type": "markdown",
   "metadata": {},
   "source": [
    "* Como podemos observar, la url objetivo contiene\n",
    "    * las fechas de decisiones de política monetaria,\n",
    "    * el resumen de las decisiones de política monetaria y\n",
    "    * una url que nos dirige a un pdf con el texto completo del Anuncio de Política Monetaria.\n",
    "    \n",
    "<h3 style=\"color:crimson\">Ejercicio</h3>\n",
    "\n",
    "1. Por medio de `requests_html`, extrae los tres puntos antes mencionados y guárdalos dentro de un DataFrame con columnas `\"date\"`, `\"text\"` y `\"url\"`;\n",
    "2. Con el dataframe seleccionado, filtra todos comunicados anteriores al 15 de febrero de 2008, i.e., queremos todos los comunicados a partir del 15 de Febrero de 2008;\n",
    "3. Guarda tu DataFrame dentro de un archivo `.pkl` con nombre `comunicados-banxico.pkl`: **hint:** Revisa el uso del método `to_pickle`."
   ]
  },
  {
   "cell_type": "code",
   "execution_count": 6,
   "metadata": {},
   "outputs": [
    {
     "data": {
      "text/html": [
       "<div>\n",
       "<style scoped>\n",
       "    .dataframe tbody tr th:only-of-type {\n",
       "        vertical-align: middle;\n",
       "    }\n",
       "\n",
       "    .dataframe tbody tr th {\n",
       "        vertical-align: top;\n",
       "    }\n",
       "\n",
       "    .dataframe thead th {\n",
       "        text-align: right;\n",
       "    }\n",
       "</style>\n",
       "<table border=\"1\" class=\"dataframe\">\n",
       "  <thead>\n",
       "    <tr style=\"text-align: right;\">\n",
       "      <th></th>\n",
       "      <th>text</th>\n",
       "      <th>url</th>\n",
       "    </tr>\n",
       "    <tr>\n",
       "      <th>date</th>\n",
       "      <th></th>\n",
       "      <th></th>\n",
       "    </tr>\n",
       "  </thead>\n",
       "  <tbody>\n",
       "    <tr>\n",
       "      <th>2008-02-15</th>\n",
       "      <td>El objetivo para la Tasa de Inter�s Interbanca...</td>\n",
       "      <td>https://www.banxico.org.mx/publicaciones-y-pre...</td>\n",
       "    </tr>\n",
       "    <tr>\n",
       "      <th>2008-03-14</th>\n",
       "      <td>El objetivo para la Tasa de Inter�s Interbanca...</td>\n",
       "      <td>https://www.banxico.org.mx/publicaciones-y-pre...</td>\n",
       "    </tr>\n",
       "    <tr>\n",
       "      <th>2008-04-18</th>\n",
       "      <td>El objetivo para la Tasa de Inter�s Interbanca...</td>\n",
       "      <td>https://www.banxico.org.mx/publicaciones-y-pre...</td>\n",
       "    </tr>\n",
       "    <tr>\n",
       "      <th>2008-05-16</th>\n",
       "      <td>El objetivo para la Tasa de Inter�s Interbanca...</td>\n",
       "      <td>https://www.banxico.org.mx/publicaciones-y-pre...</td>\n",
       "    </tr>\n",
       "    <tr>\n",
       "      <th>2008-06-20</th>\n",
       "      <td>El objetivo para la Tasa de Inter�s Interbanca...</td>\n",
       "      <td>https://www.banxico.org.mx/publicaciones-y-pre...</td>\n",
       "    </tr>\n",
       "  </tbody>\n",
       "</table>\n",
       "</div>"
      ],
      "text/plain": [
       "                                                         text  \\\n",
       "date                                                            \n",
       "2008-02-15  El objetivo para la Tasa de Inter�s Interbanca...   \n",
       "2008-03-14  El objetivo para la Tasa de Inter�s Interbanca...   \n",
       "2008-04-18  El objetivo para la Tasa de Inter�s Interbanca...   \n",
       "2008-05-16  El objetivo para la Tasa de Inter�s Interbanca...   \n",
       "2008-06-20  El objetivo para la Tasa de Inter�s Interbanca...   \n",
       "\n",
       "                                                          url  \n",
       "date                                                           \n",
       "2008-02-15  https://www.banxico.org.mx/publicaciones-y-pre...  \n",
       "2008-03-14  https://www.banxico.org.mx/publicaciones-y-pre...  \n",
       "2008-04-18  https://www.banxico.org.mx/publicaciones-y-pre...  \n",
       "2008-05-16  https://www.banxico.org.mx/publicaciones-y-pre...  \n",
       "2008-06-20  https://www.banxico.org.mx/publicaciones-y-pre...  "
      ]
     },
     "execution_count": 6,
     "metadata": {},
     "output_type": "execute_result"
    }
   ],
   "source": []
  },
  {
   "cell_type": "markdown",
   "metadata": {},
   "source": [
    "<h3 style=\"color:crimson\">Ejercicio</h3>\n",
    "\n",
    "Por medio del método `str.extract` para un pandas Series, crea una nueva columna `\"category\"` que extraiga del texto si la tasa se \n",
    "1. `\"mantiene\"`\n",
    "2. `\"incrementa\"`\n",
    "3. `\"disminuye\"`"
   ]
  },
  {
   "cell_type": "code",
   "execution_count": 7,
   "metadata": {},
   "outputs": [
    {
     "data": {
      "text/html": [
       "<div>\n",
       "<style scoped>\n",
       "    .dataframe tbody tr th:only-of-type {\n",
       "        vertical-align: middle;\n",
       "    }\n",
       "\n",
       "    .dataframe tbody tr th {\n",
       "        vertical-align: top;\n",
       "    }\n",
       "\n",
       "    .dataframe thead th {\n",
       "        text-align: right;\n",
       "    }\n",
       "</style>\n",
       "<table border=\"1\" class=\"dataframe\">\n",
       "  <thead>\n",
       "    <tr style=\"text-align: right;\">\n",
       "      <th></th>\n",
       "      <th>text</th>\n",
       "      <th>url</th>\n",
       "      <th>category</th>\n",
       "    </tr>\n",
       "    <tr>\n",
       "      <th>date</th>\n",
       "      <th></th>\n",
       "      <th></th>\n",
       "      <th></th>\n",
       "    </tr>\n",
       "  </thead>\n",
       "  <tbody>\n",
       "    <tr>\n",
       "      <th>2008-02-15</th>\n",
       "      <td>El objetivo para la Tasa de Inter�s Interbanca...</td>\n",
       "      <td>https://www.banxico.org.mx/publicaciones-y-pre...</td>\n",
       "      <td>mantiene</td>\n",
       "    </tr>\n",
       "    <tr>\n",
       "      <th>2008-03-14</th>\n",
       "      <td>El objetivo para la Tasa de Inter�s Interbanca...</td>\n",
       "      <td>https://www.banxico.org.mx/publicaciones-y-pre...</td>\n",
       "      <td>mantiene</td>\n",
       "    </tr>\n",
       "    <tr>\n",
       "      <th>2008-04-18</th>\n",
       "      <td>El objetivo para la Tasa de Inter�s Interbanca...</td>\n",
       "      <td>https://www.banxico.org.mx/publicaciones-y-pre...</td>\n",
       "      <td>mantiene</td>\n",
       "    </tr>\n",
       "    <tr>\n",
       "      <th>2008-05-16</th>\n",
       "      <td>El objetivo para la Tasa de Inter�s Interbanca...</td>\n",
       "      <td>https://www.banxico.org.mx/publicaciones-y-pre...</td>\n",
       "      <td>mantiene</td>\n",
       "    </tr>\n",
       "    <tr>\n",
       "      <th>2008-06-20</th>\n",
       "      <td>El objetivo para la Tasa de Inter�s Interbanca...</td>\n",
       "      <td>https://www.banxico.org.mx/publicaciones-y-pre...</td>\n",
       "      <td>incrementa</td>\n",
       "    </tr>\n",
       "  </tbody>\n",
       "</table>\n",
       "</div>"
      ],
      "text/plain": [
       "                                                         text  \\\n",
       "date                                                            \n",
       "2008-02-15  El objetivo para la Tasa de Inter�s Interbanca...   \n",
       "2008-03-14  El objetivo para la Tasa de Inter�s Interbanca...   \n",
       "2008-04-18  El objetivo para la Tasa de Inter�s Interbanca...   \n",
       "2008-05-16  El objetivo para la Tasa de Inter�s Interbanca...   \n",
       "2008-06-20  El objetivo para la Tasa de Inter�s Interbanca...   \n",
       "\n",
       "                                                          url    category  \n",
       "date                                                                       \n",
       "2008-02-15  https://www.banxico.org.mx/publicaciones-y-pre...    mantiene  \n",
       "2008-03-14  https://www.banxico.org.mx/publicaciones-y-pre...    mantiene  \n",
       "2008-04-18  https://www.banxico.org.mx/publicaciones-y-pre...    mantiene  \n",
       "2008-05-16  https://www.banxico.org.mx/publicaciones-y-pre...    mantiene  \n",
       "2008-06-20  https://www.banxico.org.mx/publicaciones-y-pre...  incrementa  "
      ]
     },
     "execution_count": 7,
     "metadata": {},
     "output_type": "execute_result"
    }
   ],
   "source": []
  },
  {
   "cell_type": "markdown",
   "metadata": {},
   "source": [
    "<h3 style=\"color:crimson\">Ejercicio</h3>\n",
    "\n",
    "Cuenta las veces en las que la tasa se mantuvo, se incrementó o se disminuyó."
   ]
  },
  {
   "cell_type": "code",
   "execution_count": 8,
   "metadata": {
    "scrolled": true
   },
   "outputs": [
    {
     "data": {
      "text/plain": [
       "mantiene      72\n",
       "incrementa    18\n",
       "disminuye     14\n",
       "Name: category, dtype: int64"
      ]
     },
     "execution_count": 8,
     "metadata": {},
     "output_type": "execute_result"
    }
   ],
   "source": []
  },
  {
   "cell_type": "markdown",
   "metadata": {},
   "source": [
    "<h3 style=\"color:crimson\">Ejercicio</h3>\n",
    "\n",
    "Reproduce la siguiente figura sobre los comunicados de prensa de Banxico:\n",
    "1. La gráfica de la izquierda representa una serie de tiempo sobre los comunicados de banxico. Si `y=1`, la tasa de referencia se incrementó; si `y=0`, la tasa se mantuvo; finalmente, si `y=-1`, la tasa disminuyó.\n",
    "2. La gráfica de la derecha es una gráfica de barras del ejercicio anterior"
   ]
  },
  {
   "cell_type": "code",
   "execution_count": 11,
   "metadata": {},
   "outputs": [
    {
     "data": {
      "image/png": "[encoded data removed]",
      "text/plain": [
       "<Figure size 1152x288 with 2 Axes>"
      ]
     },
     "metadata": {
      "image/png": {
       "height": 274,
       "width": 934
      },
      "needs_background": "light"
     },
     "output_type": "display_data"
    }
   ],
   "source": []
  },
  {
   "cell_type": "markdown",
   "metadata": {},
   "source": [
    "<h3 style=\"color:crimson\">Ejercicio</h3>\n",
    "\n",
    "Agrupa por año y cuenta el número de comunicados en un año para cada categoría."
   ]
  },
  {
   "cell_type": "code",
   "execution_count": 80,
   "metadata": {},
   "outputs": [
    {
     "data": {
      "text/plain": [
       "date        category  \n",
       "2008-12-31  mantiene       7\n",
       "            incrementa     3\n",
       "2009-12-31  disminuye      7\n",
       "            mantiene       4\n",
       "2010-12-31  mantiene      11\n",
       "Name: category, dtype: int64"
      ]
     },
     "execution_count": 80,
     "metadata": {},
     "output_type": "execute_result"
    }
   ],
   "source": []
  },
  {
   "cell_type": "markdown",
   "metadata": {},
   "source": [
    "<h3 style=\"color:crimson\">Ejercicio</h3>\n",
    "\n",
    "Con el resultado anterior, replica la siguiente gráfica"
   ]
  },
  {
   "cell_type": "code",
   "execution_count": 78,
   "metadata": {},
   "outputs": [
    {
     "data": {
      "image/png": "[encoded data removed]",
      "text/plain": [
       "<Figure size 864x288 with 1 Axes>"
      ]
     },
     "metadata": {
      "image/png": {
       "height": 264,
       "width": 703
      },
      "needs_background": "light"
     },
     "output_type": "display_data"
    }
   ],
   "source": []
  }
 ],
 "metadata": {
  "kernelspec": {
   "display_name": "Python 3",
   "language": "python",
   "name": "python3"
  },
  "language_info": {
   "codemirror_mode": {
    "name": "ipython",
    "version": 3
   },
   "file_extension": ".py",
   "mimetype": "text/x-python",
   "name": "python",
   "nbconvert_exporter": "python",
   "pygments_lexer": "ipython3",
   "version": "3.7.5"
  }
 },
 "nbformat": 4,
 "nbformat_minor": 2
}

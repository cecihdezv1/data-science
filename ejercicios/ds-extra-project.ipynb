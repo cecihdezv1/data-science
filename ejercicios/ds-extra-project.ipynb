{
 "cells": [
  {
   "cell_type": "markdown",
   "metadata": {},
   "source": [
    "# Proyecto Extra Data Science"
   ]
  },
  {
   "cell_type": "markdown",
   "metadata": {},
   "source": [
    "1. Usando el API de [Quandl](https://www.quandl.com/) descarga la información histórica para los tickers: `AAPL`, `MSFT`, `NKE`, `V`. Para lograr esto,\n",
    "    1. Crea una cuenta en Quandl y consigue tu _API Key_\n",
    "    2. Instala la librería de Python para Quandl. (Hint: revisa [este link](https://github.com/quandl/quandl-python))\n",
    "    3. Descarga la información de cada ticker. (Hint: revisa la documentación de Quandl)\n",
    "    \n",
    "Tu resultado debería ser un pandas DataFrame para cada uno de los tickers. Por ejemplo, para `AAPl`: \n",
    "\n",
    "\n",
    "<table border=\"1\" class=\"dataframe\">  <thead>    <tr style=\"text-align: right;\">      <th></th>      <th>Open</th>      <th>High</th>      <th>Low</th>      <th>Close</th>      <th>Volume</th>      <th>Dividend</th>      <th>Split</th>      <th>Adj_Open</th>      <th>Adj_High</th>      <th>Adj_Low</th>      <th>Adj_Close</th>      <th>Adj_Volume</th>    </tr>    <tr>      <th>Date</th>      <th></th>      <th></th>      <th></th>      <th></th>      <th></th>      <th></th>      <th></th>      <th></th>      <th></th>      <th></th>      <th></th>      <th></th>    </tr>  </thead>  <tbody>    <tr>      <th>2013-09-03</th>      <td>493.10</td>      <td>500.60</td>      <td>487.35</td>      <td>488.580</td>      <td>11854600.0</td>      <td>0.0</td>      <td>1.0</td>      <td>63.019032</td>      <td>63.977544</td>      <td>62.284172</td>      <td>62.441368</td>      <td>82982200.0</td>    </tr>    <tr>      <th>2013-09-04</th>      <td>499.56</td>      <td>502.24</td>      <td>496.28</td>      <td>498.691</td>      <td>12322600.0</td>      <td>0.0</td>      <td>1.0</td>      <td>63.844631</td>      <td>64.187139</td>      <td>63.425441</td>      <td>63.733571</td>      <td>86258200.0</td>    </tr>    <tr>      <th>2013-09-05</th>      <td>500.25</td>      <td>500.68</td>      <td>493.64</td>      <td>495.270</td>      <td>8441700.0</td>      <td>0.0</td>      <td>1.0</td>      <td>63.932814</td>      <td>63.987769</td>      <td>63.088044</td>      <td>63.296361</td>      <td>59091900.0</td>    </tr>    <tr>      <th>2013-09-06</th>      <td>498.44</td>      <td>499.38</td>      <td>489.95</td>      <td>498.220</td>      <td>12840200.0</td>      <td>0.0</td>      <td>1.0</td>      <td>63.701493</td>      <td>63.821626</td>      <td>62.616456</td>      <td>63.673376</td>      <td>89881400.0</td>    </tr>    <tr>      <th>2013-09-09</th>      <td>505.00</td>      <td>507.92</td>      <td>503.48</td>      <td>506.170</td>      <td>12167400.0</td>      <td>0.0</td>      <td>1.0</td>      <td>64.539872</td>      <td>64.913053</td>      <td>64.345613</td>      <td>64.689400</td>      <td>85171800.0</td>    </tr>  </tbody></table>"
   ]
  },
  {
   "cell_type": "code",
   "execution_count": null,
   "metadata": {},
   "outputs": [],
   "source": []
  },
  {
   "cell_type": "markdown",
   "metadata": {},
   "source": [
    "2. Con la información descargada de cada uno de los tickers, crea un nuevo dataframe `df` usando la columna `Adj_Close`. Cada columna de `df` deberá ser el nombre de cada ticker.\n",
    "\n",
    "<table border=\"1\" class=\"dataframe\">  <thead>    <tr style=\"text-align: right;\">      <th></th>      <th>AAPL</th>      <th>MSFT</th>      <th>NKE</th>      <th>V</th>    </tr>    <tr>      <th>Date</th>      <th></th>      <th></th>      <th></th>      <th></th>    </tr>  </thead>  <tbody>    <tr>      <th>2013-09-03</th>      <td>62.441368</td>      <td>27.747702</td>      <td>29.892500</td>      <td>42.413492</td>    </tr>    <tr>      <th>2013-09-04</th>      <td>63.733571</td>      <td>27.151492</td>      <td>30.283069</td>      <td>42.214626</td>    </tr>    <tr>      <th>2013-09-05</th>      <td>63.296361</td>      <td>27.186307</td>      <td>30.399310</td>      <td>42.219418</td>    </tr>    <tr>      <th>2013-09-06</th>      <td>63.673376</td>      <td>27.114065</td>      <td>30.213325</td>      <td>42.329633</td>    </tr>    <tr>      <th>2013-09-09</th>      <td>64.689400</td>      <td>27.551866</td>      <td>30.408609</td>      <td>42.780075</td>    </tr>  </tbody></table>"
   ]
  },
  {
   "cell_type": "code",
   "execution_count": null,
   "metadata": {},
   "outputs": [],
   "source": []
  },
  {
   "attachments": {},
   "cell_type": "markdown",
   "metadata": {},
   "source": [
    "3. Crea una gráfica de precios históricos para cada ticker dentro de `df`\n",
    "\n",
    "![image.png](../files/misc/e01.png)"
   ]
  },
  {
   "cell_type": "code",
   "execution_count": null,
   "metadata": {},
   "outputs": [],
   "source": []
  },
  {
   "attachments": {},
   "cell_type": "markdown",
   "metadata": {},
   "source": [
    "4. Gráfica el precio de `NKE` junto con una gráfica de medias móviles a 30 y 100 días\n",
    "\n",
    "![image.png](../files/misc/e02.png)"
   ]
  },
  {
   "cell_type": "code",
   "execution_count": null,
   "metadata": {},
   "outputs": [],
   "source": []
  },
  {
   "attachments": {},
   "cell_type": "markdown",
   "metadata": {},
   "source": [
    "5. Gráfica para `NKE` los momentos en el tiempo en el cuál existió un cambio en la tendencia de las medias móviles. Es decir, los puntos en el tiempo en los cuáles la media movil de 30 días paso de estar por abajo de la media móvil a 100 días y viceversa.\n",
    "\n",
    "![image.png](../files/misc/e03.png)"
   ]
  },
  {
   "cell_type": "code",
   "execution_count": null,
   "metadata": {},
   "outputs": [],
   "source": []
  },
  {
   "cell_type": "markdown",
   "metadata": {},
   "source": [
    "6. Calcula el rendimiento esperado diario de cada ticker"
   ]
  },
  {
   "cell_type": "code",
   "execution_count": null,
   "metadata": {},
   "outputs": [],
   "source": []
  },
  {
   "cell_type": "markdown",
   "metadata": {},
   "source": [
    "7. Calcula el rendimiento esperado anual de cada emisora"
   ]
  },
  {
   "cell_type": "code",
   "execution_count": null,
   "metadata": {},
   "outputs": [],
   "source": []
  },
  {
   "cell_type": "markdown",
   "metadata": {},
   "source": [
    "8. Dado los siguientes ponderadores, calcula el rendimiento esperado diario del portafolio"
   ]
  },
  {
   "cell_type": "code",
   "execution_count": 1,
   "metadata": {},
   "outputs": [],
   "source": [
    "from numpy.random import seed, random\n",
    "# Generación de ponderadores aleatorios\n",
    "seed(314)\n",
    "w = random(size=5)\n",
    "w = w / w.sum()"
   ]
  },
  {
   "cell_type": "code",
   "execution_count": null,
   "metadata": {},
   "outputs": [],
   "source": []
  },
  {
   "cell_type": "markdown",
   "metadata": {},
   "source": [
    "9. Dado ponderadores $w$, calcula el rendimiento esperado anual del portafolio"
   ]
  },
  {
   "cell_type": "code",
   "execution_count": null,
   "metadata": {},
   "outputs": [],
   "source": []
  },
  {
   "cell_type": "markdown",
   "metadata": {},
   "source": [
    "10. Calcula la matriz de variaza/covarianza"
   ]
  },
  {
   "cell_type": "code",
   "execution_count": null,
   "metadata": {},
   "outputs": [],
   "source": []
  },
  {
   "cell_type": "markdown",
   "metadata": {},
   "source": [
    "11. Calcula la varianza anual del portafolio"
   ]
  },
  {
   "cell_type": "code",
   "execution_count": null,
   "metadata": {},
   "outputs": [],
   "source": []
  },
  {
   "cell_type": "markdown",
   "metadata": {},
   "source": [
    "12. Calcula la desviación estándar anual del portafolio"
   ]
  },
  {
   "cell_type": "code",
   "execution_count": null,
   "metadata": {},
   "outputs": [],
   "source": []
  },
  {
   "cell_type": "markdown",
   "metadata": {},
   "source": [
    "13. Para cada ticker, calcula la distribución a posteriori de su rendimiento $\\mu_r$ asumiendo una distribución a priori normal y $\\sigma_r$ conocida (asume que $\\sigma_r$ es la desviación estándard muestral)\n",
    "\n",
    "    * Para cada ticker, ¿cuál es la probabilida de que $\\mu_r$ se positivo? ($\\forall r. p(\\mu_r) > 0$)\n",
    "    * Cómo elegiste los hyperparámetros de la distribución a priori?"
   ]
  },
  {
   "cell_type": "code",
   "execution_count": null,
   "metadata": {},
   "outputs": [],
   "source": []
  },
  {
   "cell_type": "markdown",
   "metadata": {},
   "source": [
    "**Extra**:\n",
    "\n",
    "* ¿Cuándo Usamos Numpy y cuando Pandas?\n",
    "* ¿En qué ocasiones es más conveniente usar Numpy que *for-loops*?\n",
    "* ¿Qué es el _axis_ en numpy/pandas?\n",
    "* ¿Cuándo usar webscrapping y cuándo un API?"
   ]
  },
  {
   "cell_type": "code",
   "execution_count": null,
   "metadata": {},
   "outputs": [],
   "source": []
  }
 ],
 "metadata": {
  "kernelspec": {
   "display_name": "Python 3",
   "language": "python",
   "name": "python3"
  },
  "language_info": {
   "codemirror_mode": {
    "name": "ipython",
    "version": 3
   },
   "file_extension": ".py",
   "mimetype": "text/x-python",
   "name": "python",
   "nbconvert_exporter": "python",
   "pygments_lexer": "ipython3",
   "version": "3.7.4"
  }
 },
 "nbformat": 4,
 "nbformat_minor": 2
}
